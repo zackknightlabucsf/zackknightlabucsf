{
 "cells": [
  {
   "cell_type": "code",
   "execution_count": 22,
   "metadata": {},
   "outputs": [],
   "source": [
    "import pandas as pd\n",
    "import numpy as np\n",
    "import pickle\n",
    "import os \n",
    "\n",
    "#F_path=os.path.abspath(\"D:\\Euhydrated heating\\VGLUTDTRM1\\Heating April 22 2022\\suite2p\\plane0\\F.npy\")\n",
    "#Fneu_path=os.path.abspath(\"D:\\Euhydrated heating\\VGLUTDTRM1\\Heating April 22 2022\\suite2p\\plane0\\Fneu.npy\")\n",
    "#iscell_path=os.path.abspath(\"D:\\Euhydrated heating\\VGLUTDTRM1\\Heating April 22 2022\\suite2p\\plane0\\iscell.npy\")\n",
    "\n",
    "F=np.load('NaCl infusion-VGLUTDTRM1/F.npy', allow_pickle=True) ##input local file path, or variable name if file not locally stored in jupyter\n",
    "Fneu=np.load('NaCl infusion-VGLUTDTRM1/Fneu.npy', allow_pickle=True)\n",
    "iscell=np.load('NaCl infusion-VGLUTDTRM1/iscell.npy', allow_pickle=True)\n",
    "spks=np.load('NaCl infusion-VGLUTDTRM1/spks.npy', allow_pickle=True)\n",
    "\n",
    "iscell=pd.DataFrame(iscell)\n",
    "F=pd.DataFrame(F)\n",
    "Fneu=pd.DataFrame(Fneu)\n",
    "\n",
    "F_cells=F.loc[(iscell[0] == 1)]\n",
    "Fneu_cells=Fneu.loc[(iscell[0] == 1)]\n",
    "\n",
    "#corrected fluorescence\n",
    "F_corr=F_cells-0.7*Fneu_cells\n",
    "F_corr=F_corr.T\n",
    "F_corr.index=F_corr.index/60/5\n",
    "\n",
    "#zscored\n",
    "p=(F_corr-(F_corr.loc[1:15].mean(axis=0)))/(F_corr.loc[1:15].std())\n"
   ]
  },
  {
   "cell_type": "code",
   "execution_count": 85,
   "metadata": {},
   "outputs": [],
   "source": [
    "class sorting_zscore():\n",
    "    def __init__(self, df_name, stim_start, stim_end, inhib_thresh, act_thresh):\n",
    "        self.df_name=df_name\n",
    "        self.stim_start=stim_start\n",
    "        self.stim_end=stim_end\n",
    "        self.inhib_thresh=inhib_thresh\n",
    "        self.act_thresh=act_thresh\n",
    "        \n",
    "    def sort_df_by_dff(self):\n",
    "        x=self.df_name.loc[self.stim_start:self.stim_end]\n",
    "        y=x.mean(axis=0)\n",
    "        dff=pd.DataFrame(y)\n",
    "        dff.columns=['dff']\n",
    "        self.dff=dff.sort_values(by=['dff'])\n",
    "        y=self.df_name.T.reindex(self.dff.index)\n",
    "        return y, self.dff\n",
    "    \n",
    "    def sort_dff_by_cat(self):\n",
    "        self.dff_inhib=self.df_name.T.loc[self.dff['dff'] <=self.inhib_thresh]\n",
    "        self.dff_nada=self.df_name.T.loc[(self.dff['dff'] >= self.inhib_thresh) & (self.dff['dff']<=self.act_thresh)]\n",
    "        self.dff_act=self.df_name.T.loc[self.dff['dff']>=self.act_thresh]\n",
    "        return self.dff_inhib, self.dff_nada, self.dff_act\n",
    "    \n",
    "    def sort_df_by_cat(self):\n",
    "        inhib=self.df_name.T.loc[self.dff_inhib.index]\n",
    "        nada=self.df_name.T.loc[self.dff_nada.index]\n",
    "        act=self.df_name.T.loc[self.dff_act.index]\n",
    "        return inhib.T, nada.T, act.T\n",
    "\n",
    "\n",
    "        \n",
    "    \n",
    "new_df=sorting_zscore(p, 20,45,(-0.5),1)\n",
    "\n",
    "[S_df,dff_df]=new_df.sort_df_by_dff()\n",
    "[dff_i, dff_nc, dff_a]=new_df.sort_dff_by_cat()\n",
    "[i, nc, a]=new_df.sort_df_by_cat()\n",
    "\n",
    "lst=[S_df,dff_df,dff_i, dff_nc, dff_a, i, nc, a]\n",
    "\n",
    "with open('NaCl_VGDTR_sorted.p', 'wb') as f:\n",
    "    pickle.dump(lst,f)\n",
    "    \n"
   ]
  },
  {
   "cell_type": "code",
   "execution_count": null,
   "metadata": {},
   "outputs": [],
   "source": [
    "\n"
   ]
  },
  {
   "cell_type": "code",
   "execution_count": null,
   "metadata": {},
   "outputs": [],
   "source": []
  },
  {
   "cell_type": "code",
   "execution_count": null,
   "metadata": {},
   "outputs": [],
   "source": []
  },
  {
   "cell_type": "code",
   "execution_count": null,
   "metadata": {},
   "outputs": [],
   "source": []
  },
  {
   "cell_type": "code",
   "execution_count": null,
   "metadata": {},
   "outputs": [],
   "source": []
  }
 ],
 "metadata": {
  "kernelspec": {
   "display_name": "Python 3",
   "language": "python",
   "name": "python3"
  },
  "language_info": {
   "codemirror_mode": {
    "name": "ipython",
    "version": 3
   },
   "file_extension": ".py",
   "mimetype": "text/x-python",
   "name": "python",
   "nbconvert_exporter": "python",
   "pygments_lexer": "ipython3",
   "version": "3.8.3"
  }
 },
 "nbformat": 4,
 "nbformat_minor": 4
}
